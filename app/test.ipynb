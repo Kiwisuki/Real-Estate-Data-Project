{
 "cells": [
  {
   "cell_type": "code",
   "execution_count": 1,
   "metadata": {},
   "outputs": [],
   "source": [
    "from dotenv import load_dotenv\n",
    "import logging\n",
    "\n",
    "assert load_dotenv(override=True)\n",
    "\n",
    "from redp_scraper.scraping.driver import SmartDriver\n",
    "from redp_scraper.parsing.flat import FlatParser\n",
    "from redp_scraper.scraping.mongo import upload_dict, get_scraped_ids\n",
    "from redp_scraper.parsing.listings import get_ids, get_max_page\n",
    "from redp_scraper.utils import set_logger_config\n",
    "\n",
    "\n",
    "LOGGER = logging.getLogger(__name__)\n",
    "set_logger_config()\n",
    "\n"
   ]
  },
  {
   "cell_type": "code",
   "execution_count": 2,
   "metadata": {},
   "outputs": [
    {
     "name": "stderr",
     "output_type": "stream",
     "text": [
      "2024-03-23 09:15:11,177 [INFO] - undetected_chromedriver.patcher - patching driver executable /Users/mariusarlauskas/Library/Application Support/undetected_chromedriver/undetected_chromedriver\n"
     ]
    }
   ],
   "source": [
    "driver = SmartDriver(wait_to_load=10)"
   ]
  },
  {
   "cell_type": "code",
   "execution_count": 3,
   "metadata": {},
   "outputs": [],
   "source": [
    "ad_html = driver.get_html('https://www.aruodas.lt/butai-vilniuje-senamiestyje-m-dauksos-g-parduodamas-jaukus-ir-moderniai-irengtas-1-3417157/')"
   ]
  },
  {
   "cell_type": "code",
   "execution_count": 4,
   "metadata": {},
   "outputs": [
    {
     "name": "stderr",
     "output_type": "stream",
     "text": [
      "2024-03-23 09:15:24,312 [ERROR] - redp_scraper.parsing.feature_extraction - Exception in get_coordinates: 'NoneType' object is not subscriptable\n"
     ]
    }
   ],
   "source": [
    "flat = FlatParser(ad_html)"
   ]
  },
  {
   "cell_type": "code",
   "execution_count": null,
   "metadata": {},
   "outputs": [],
   "source": []
  }
 ],
 "metadata": {
  "kernelspec": {
   "display_name": ".venv",
   "language": "python",
   "name": "python3"
  },
  "language_info": {
   "codemirror_mode": {
    "name": "ipython",
    "version": 3
   },
   "file_extension": ".py",
   "mimetype": "text/x-python",
   "name": "python",
   "nbconvert_exporter": "python",
   "pygments_lexer": "ipython3",
   "version": "3.12.1"
  }
 },
 "nbformat": 4,
 "nbformat_minor": 2
}
